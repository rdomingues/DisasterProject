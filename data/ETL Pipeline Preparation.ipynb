{
 "cells": [
  {
   "cell_type": "markdown",
   "source": [
    "# ETL Pipeline Preparation\n",
    "Follow the instructions below to help you create your ETL pipeline.\n",
    "### 1. Import libraries and load datasets.\n",
    "- Import Python libraries\n",
    "- Load `messages.csv` into a dataframe and inspect the first few lines.\n",
    "- Load `categories.csv` into a dataframe and inspect the first few lines."
   ],
   "metadata": {}
  },
  {
   "cell_type": "code",
   "source": [
    "# import libraries\n",
    "import numpy as np\n",
    "import pandas as pd\n",
    "import sqlite3\n",
    "from sqlalchemy import create_engine"
   ],
   "execution_count": 16,
   "outputs": [],
   "metadata": {}
  },
  {
   "cell_type": "code",
   "source": [
    "# load messages dataset\n",
    "messages =  pd.read_csv(\"./messages.csv\",sep=\",\")\n",
    "messages.head()"
   ],
   "execution_count": 17,
   "outputs": [
    {
     "data": {
      "text/plain": "   id                                            message  \\\n0   2  Weather update - a cold front from Cuba that c...   \n1   7            Is the Hurricane over or is it not over   \n2   8                    Looking for someone but no name   \n3   9  UN reports Leogane 80-90 destroyed. Only Hospi...   \n4  12  says: west side of Haiti, rest of the country ...   \n\n                                            original   genre  \n0  Un front froid se retrouve sur Cuba ce matin. ...  direct  \n1                 Cyclone nan fini osinon li pa fini  direct  \n2  Patnm, di Maryani relem pou li banm nouvel li ...  direct  \n3  UN reports Leogane 80-90 destroyed. Only Hospi...  direct  \n4  facade ouest d Haiti et le reste du pays aujou...  direct  ",
      "text/html": "<div>\n<style scoped>\n    .dataframe tbody tr th:only-of-type {\n        vertical-align: middle;\n    }\n\n    .dataframe tbody tr th {\n        vertical-align: top;\n    }\n\n    .dataframe thead th {\n        text-align: right;\n    }\n</style>\n<table border=\"1\" class=\"dataframe\">\n  <thead>\n    <tr style=\"text-align: right;\">\n      <th></th>\n      <th>id</th>\n      <th>message</th>\n      <th>original</th>\n      <th>genre</th>\n    </tr>\n  </thead>\n  <tbody>\n    <tr>\n      <th>0</th>\n      <td>2</td>\n      <td>Weather update - a cold front from Cuba that c...</td>\n      <td>Un front froid se retrouve sur Cuba ce matin. ...</td>\n      <td>direct</td>\n    </tr>\n    <tr>\n      <th>1</th>\n      <td>7</td>\n      <td>Is the Hurricane over or is it not over</td>\n      <td>Cyclone nan fini osinon li pa fini</td>\n      <td>direct</td>\n    </tr>\n    <tr>\n      <th>2</th>\n      <td>8</td>\n      <td>Looking for someone but no name</td>\n      <td>Patnm, di Maryani relem pou li banm nouvel li ...</td>\n      <td>direct</td>\n    </tr>\n    <tr>\n      <th>3</th>\n      <td>9</td>\n      <td>UN reports Leogane 80-90 destroyed. Only Hospi...</td>\n      <td>UN reports Leogane 80-90 destroyed. Only Hospi...</td>\n      <td>direct</td>\n    </tr>\n    <tr>\n      <th>4</th>\n      <td>12</td>\n      <td>says: west side of Haiti, rest of the country ...</td>\n      <td>facade ouest d Haiti et le reste du pays aujou...</td>\n      <td>direct</td>\n    </tr>\n  </tbody>\n</table>\n</div>"
     },
     "execution_count": 17,
     "metadata": {},
     "output_type": "execute_result"
    }
   ],
   "metadata": {}
  },
  {
   "cell_type": "code",
   "source": [
    "# load categories dataset\n",
    "categories = pd.read_csv(\"./categories.csv\",sep=\",\")\n",
    "categories.head()"
   ],
   "execution_count": 18,
   "outputs": [
    {
     "data": {
      "text/plain": "   id                                         categories\n0   2  related-1;request-0;offer-0;aid_related-0;medi...\n1   7  related-1;request-0;offer-0;aid_related-1;medi...\n2   8  related-1;request-0;offer-0;aid_related-0;medi...\n3   9  related-1;request-1;offer-0;aid_related-1;medi...\n4  12  related-1;request-0;offer-0;aid_related-0;medi...",
      "text/html": "<div>\n<style scoped>\n    .dataframe tbody tr th:only-of-type {\n        vertical-align: middle;\n    }\n\n    .dataframe tbody tr th {\n        vertical-align: top;\n    }\n\n    .dataframe thead th {\n        text-align: right;\n    }\n</style>\n<table border=\"1\" class=\"dataframe\">\n  <thead>\n    <tr style=\"text-align: right;\">\n      <th></th>\n      <th>id</th>\n      <th>categories</th>\n    </tr>\n  </thead>\n  <tbody>\n    <tr>\n      <th>0</th>\n      <td>2</td>\n      <td>related-1;request-0;offer-0;aid_related-0;medi...</td>\n    </tr>\n    <tr>\n      <th>1</th>\n      <td>7</td>\n      <td>related-1;request-0;offer-0;aid_related-1;medi...</td>\n    </tr>\n    <tr>\n      <th>2</th>\n      <td>8</td>\n      <td>related-1;request-0;offer-0;aid_related-0;medi...</td>\n    </tr>\n    <tr>\n      <th>3</th>\n      <td>9</td>\n      <td>related-1;request-1;offer-0;aid_related-1;medi...</td>\n    </tr>\n    <tr>\n      <th>4</th>\n      <td>12</td>\n      <td>related-1;request-0;offer-0;aid_related-0;medi...</td>\n    </tr>\n  </tbody>\n</table>\n</div>"
     },
     "execution_count": 18,
     "metadata": {},
     "output_type": "execute_result"
    }
   ],
   "metadata": {}
  },
  {
   "cell_type": "markdown",
   "source": [
    "### 2. Merge datasets.\n",
    "- Merge the messages and categories datasets using the common id\n",
    "- Assign this combined dataset to `df`, which will be cleaned in the following steps"
   ],
   "metadata": {}
  },
  {
   "cell_type": "code",
   "source": [
    "# merge datasets\n",
    "df = pd.merge(messages,categories,on=\"id\")\n",
    "df.head()"
   ],
   "execution_count": 19,
   "outputs": [
    {
     "data": {
      "text/plain": "   id                                            message  \\\n0   2  Weather update - a cold front from Cuba that c...   \n1   7            Is the Hurricane over or is it not over   \n2   8                    Looking for someone but no name   \n3   9  UN reports Leogane 80-90 destroyed. Only Hospi...   \n4  12  says: west side of Haiti, rest of the country ...   \n\n                                            original   genre  \\\n0  Un front froid se retrouve sur Cuba ce matin. ...  direct   \n1                 Cyclone nan fini osinon li pa fini  direct   \n2  Patnm, di Maryani relem pou li banm nouvel li ...  direct   \n3  UN reports Leogane 80-90 destroyed. Only Hospi...  direct   \n4  facade ouest d Haiti et le reste du pays aujou...  direct   \n\n                                          categories  \n0  related-1;request-0;offer-0;aid_related-0;medi...  \n1  related-1;request-0;offer-0;aid_related-1;medi...  \n2  related-1;request-0;offer-0;aid_related-0;medi...  \n3  related-1;request-1;offer-0;aid_related-1;medi...  \n4  related-1;request-0;offer-0;aid_related-0;medi...  ",
      "text/html": "<div>\n<style scoped>\n    .dataframe tbody tr th:only-of-type {\n        vertical-align: middle;\n    }\n\n    .dataframe tbody tr th {\n        vertical-align: top;\n    }\n\n    .dataframe thead th {\n        text-align: right;\n    }\n</style>\n<table border=\"1\" class=\"dataframe\">\n  <thead>\n    <tr style=\"text-align: right;\">\n      <th></th>\n      <th>id</th>\n      <th>message</th>\n      <th>original</th>\n      <th>genre</th>\n      <th>categories</th>\n    </tr>\n  </thead>\n  <tbody>\n    <tr>\n      <th>0</th>\n      <td>2</td>\n      <td>Weather update - a cold front from Cuba that c...</td>\n      <td>Un front froid se retrouve sur Cuba ce matin. ...</td>\n      <td>direct</td>\n      <td>related-1;request-0;offer-0;aid_related-0;medi...</td>\n    </tr>\n    <tr>\n      <th>1</th>\n      <td>7</td>\n      <td>Is the Hurricane over or is it not over</td>\n      <td>Cyclone nan fini osinon li pa fini</td>\n      <td>direct</td>\n      <td>related-1;request-0;offer-0;aid_related-1;medi...</td>\n    </tr>\n    <tr>\n      <th>2</th>\n      <td>8</td>\n      <td>Looking for someone but no name</td>\n      <td>Patnm, di Maryani relem pou li banm nouvel li ...</td>\n      <td>direct</td>\n      <td>related-1;request-0;offer-0;aid_related-0;medi...</td>\n    </tr>\n    <tr>\n      <th>3</th>\n      <td>9</td>\n      <td>UN reports Leogane 80-90 destroyed. Only Hospi...</td>\n      <td>UN reports Leogane 80-90 destroyed. Only Hospi...</td>\n      <td>direct</td>\n      <td>related-1;request-1;offer-0;aid_related-1;medi...</td>\n    </tr>\n    <tr>\n      <th>4</th>\n      <td>12</td>\n      <td>says: west side of Haiti, rest of the country ...</td>\n      <td>facade ouest d Haiti et le reste du pays aujou...</td>\n      <td>direct</td>\n      <td>related-1;request-0;offer-0;aid_related-0;medi...</td>\n    </tr>\n  </tbody>\n</table>\n</div>"
     },
     "execution_count": 19,
     "metadata": {},
     "output_type": "execute_result"
    }
   ],
   "metadata": {}
  },
  {
   "cell_type": "markdown",
   "source": [
    "### 3. Split `categories` into separate category columns.\n",
    "- Split the values in the `categories` column on the `;` character so that each value becomes a separate column. You'll find [this method](https://pandas.pydata.org/pandas-docs/version/0.23/generated/pandas.Series.str.split.html) very helpful! Make sure to set `expand=True`.\n",
    "- Use the first row of categories dataframe to create column names for the categories data.\n",
    "- Rename columns of `categories` with new column names."
   ],
   "metadata": {}
  },
  {
   "cell_type": "code",
   "source": [
    "# create a dataframe of the 36 individual category columns\n",
    "categories = df[\"categories\"].str.split(\";\",expand=True)\n",
    "categories.head()"
   ],
   "execution_count": 20,
   "outputs": [
    {
     "data": {
      "text/plain": "          0          1        2              3               4   \\\n0  related-1  request-0  offer-0  aid_related-0  medical_help-0   \n1  related-1  request-0  offer-0  aid_related-1  medical_help-0   \n2  related-1  request-0  offer-0  aid_related-0  medical_help-0   \n3  related-1  request-1  offer-0  aid_related-1  medical_help-0   \n4  related-1  request-0  offer-0  aid_related-0  medical_help-0   \n\n                   5                    6           7           8   \\\n0  medical_products-0  search_and_rescue-0  security-0  military-0   \n1  medical_products-0  search_and_rescue-0  security-0  military-0   \n2  medical_products-0  search_and_rescue-0  security-0  military-0   \n3  medical_products-1  search_and_rescue-0  security-0  military-0   \n4  medical_products-0  search_and_rescue-0  security-0  military-0   \n\n              9   ...             26                      27  \\\n0  child_alone-0  ...  aid_centers-0  other_infrastructure-0   \n1  child_alone-0  ...  aid_centers-0  other_infrastructure-0   \n2  child_alone-0  ...  aid_centers-0  other_infrastructure-0   \n3  child_alone-0  ...  aid_centers-0  other_infrastructure-0   \n4  child_alone-0  ...  aid_centers-0  other_infrastructure-0   \n\n                  28        29       30      31            32      33  \\\n0  weather_related-0  floods-0  storm-0  fire-0  earthquake-0  cold-0   \n1  weather_related-1  floods-0  storm-1  fire-0  earthquake-0  cold-0   \n2  weather_related-0  floods-0  storm-0  fire-0  earthquake-0  cold-0   \n3  weather_related-0  floods-0  storm-0  fire-0  earthquake-0  cold-0   \n4  weather_related-0  floods-0  storm-0  fire-0  earthquake-0  cold-0   \n\n                34               35  \n0  other_weather-0  direct_report-0  \n1  other_weather-0  direct_report-0  \n2  other_weather-0  direct_report-0  \n3  other_weather-0  direct_report-0  \n4  other_weather-0  direct_report-0  \n\n[5 rows x 36 columns]",
      "text/html": "<div>\n<style scoped>\n    .dataframe tbody tr th:only-of-type {\n        vertical-align: middle;\n    }\n\n    .dataframe tbody tr th {\n        vertical-align: top;\n    }\n\n    .dataframe thead th {\n        text-align: right;\n    }\n</style>\n<table border=\"1\" class=\"dataframe\">\n  <thead>\n    <tr style=\"text-align: right;\">\n      <th></th>\n      <th>0</th>\n      <th>1</th>\n      <th>2</th>\n      <th>3</th>\n      <th>4</th>\n      <th>5</th>\n      <th>6</th>\n      <th>7</th>\n      <th>8</th>\n      <th>9</th>\n      <th>...</th>\n      <th>26</th>\n      <th>27</th>\n      <th>28</th>\n      <th>29</th>\n      <th>30</th>\n      <th>31</th>\n      <th>32</th>\n      <th>33</th>\n      <th>34</th>\n      <th>35</th>\n    </tr>\n  </thead>\n  <tbody>\n    <tr>\n      <th>0</th>\n      <td>related-1</td>\n      <td>request-0</td>\n      <td>offer-0</td>\n      <td>aid_related-0</td>\n      <td>medical_help-0</td>\n      <td>medical_products-0</td>\n      <td>search_and_rescue-0</td>\n      <td>security-0</td>\n      <td>military-0</td>\n      <td>child_alone-0</td>\n      <td>...</td>\n      <td>aid_centers-0</td>\n      <td>other_infrastructure-0</td>\n      <td>weather_related-0</td>\n      <td>floods-0</td>\n      <td>storm-0</td>\n      <td>fire-0</td>\n      <td>earthquake-0</td>\n      <td>cold-0</td>\n      <td>other_weather-0</td>\n      <td>direct_report-0</td>\n    </tr>\n    <tr>\n      <th>1</th>\n      <td>related-1</td>\n      <td>request-0</td>\n      <td>offer-0</td>\n      <td>aid_related-1</td>\n      <td>medical_help-0</td>\n      <td>medical_products-0</td>\n      <td>search_and_rescue-0</td>\n      <td>security-0</td>\n      <td>military-0</td>\n      <td>child_alone-0</td>\n      <td>...</td>\n      <td>aid_centers-0</td>\n      <td>other_infrastructure-0</td>\n      <td>weather_related-1</td>\n      <td>floods-0</td>\n      <td>storm-1</td>\n      <td>fire-0</td>\n      <td>earthquake-0</td>\n      <td>cold-0</td>\n      <td>other_weather-0</td>\n      <td>direct_report-0</td>\n    </tr>\n    <tr>\n      <th>2</th>\n      <td>related-1</td>\n      <td>request-0</td>\n      <td>offer-0</td>\n      <td>aid_related-0</td>\n      <td>medical_help-0</td>\n      <td>medical_products-0</td>\n      <td>search_and_rescue-0</td>\n      <td>security-0</td>\n      <td>military-0</td>\n      <td>child_alone-0</td>\n      <td>...</td>\n      <td>aid_centers-0</td>\n      <td>other_infrastructure-0</td>\n      <td>weather_related-0</td>\n      <td>floods-0</td>\n      <td>storm-0</td>\n      <td>fire-0</td>\n      <td>earthquake-0</td>\n      <td>cold-0</td>\n      <td>other_weather-0</td>\n      <td>direct_report-0</td>\n    </tr>\n    <tr>\n      <th>3</th>\n      <td>related-1</td>\n      <td>request-1</td>\n      <td>offer-0</td>\n      <td>aid_related-1</td>\n      <td>medical_help-0</td>\n      <td>medical_products-1</td>\n      <td>search_and_rescue-0</td>\n      <td>security-0</td>\n      <td>military-0</td>\n      <td>child_alone-0</td>\n      <td>...</td>\n      <td>aid_centers-0</td>\n      <td>other_infrastructure-0</td>\n      <td>weather_related-0</td>\n      <td>floods-0</td>\n      <td>storm-0</td>\n      <td>fire-0</td>\n      <td>earthquake-0</td>\n      <td>cold-0</td>\n      <td>other_weather-0</td>\n      <td>direct_report-0</td>\n    </tr>\n    <tr>\n      <th>4</th>\n      <td>related-1</td>\n      <td>request-0</td>\n      <td>offer-0</td>\n      <td>aid_related-0</td>\n      <td>medical_help-0</td>\n      <td>medical_products-0</td>\n      <td>search_and_rescue-0</td>\n      <td>security-0</td>\n      <td>military-0</td>\n      <td>child_alone-0</td>\n      <td>...</td>\n      <td>aid_centers-0</td>\n      <td>other_infrastructure-0</td>\n      <td>weather_related-0</td>\n      <td>floods-0</td>\n      <td>storm-0</td>\n      <td>fire-0</td>\n      <td>earthquake-0</td>\n      <td>cold-0</td>\n      <td>other_weather-0</td>\n      <td>direct_report-0</td>\n    </tr>\n  </tbody>\n</table>\n<p>5 rows × 36 columns</p>\n</div>"
     },
     "execution_count": 20,
     "metadata": {},
     "output_type": "execute_result"
    }
   ],
   "metadata": {}
  },
  {
   "cell_type": "code",
   "source": [
    "# select the first row of the categories dataframe\n",
    "row = categories.iloc[0:1]\n",
    "row.head()"
   ],
   "execution_count": 21,
   "outputs": [
    {
     "data": {
      "text/plain": "          0          1        2              3               4   \\\n0  related-1  request-0  offer-0  aid_related-0  medical_help-0   \n\n                   5                    6           7           8   \\\n0  medical_products-0  search_and_rescue-0  security-0  military-0   \n\n              9   ...             26                      27  \\\n0  child_alone-0  ...  aid_centers-0  other_infrastructure-0   \n\n                  28        29       30      31            32      33  \\\n0  weather_related-0  floods-0  storm-0  fire-0  earthquake-0  cold-0   \n\n                34               35  \n0  other_weather-0  direct_report-0  \n\n[1 rows x 36 columns]",
      "text/html": "<div>\n<style scoped>\n    .dataframe tbody tr th:only-of-type {\n        vertical-align: middle;\n    }\n\n    .dataframe tbody tr th {\n        vertical-align: top;\n    }\n\n    .dataframe thead th {\n        text-align: right;\n    }\n</style>\n<table border=\"1\" class=\"dataframe\">\n  <thead>\n    <tr style=\"text-align: right;\">\n      <th></th>\n      <th>0</th>\n      <th>1</th>\n      <th>2</th>\n      <th>3</th>\n      <th>4</th>\n      <th>5</th>\n      <th>6</th>\n      <th>7</th>\n      <th>8</th>\n      <th>9</th>\n      <th>...</th>\n      <th>26</th>\n      <th>27</th>\n      <th>28</th>\n      <th>29</th>\n      <th>30</th>\n      <th>31</th>\n      <th>32</th>\n      <th>33</th>\n      <th>34</th>\n      <th>35</th>\n    </tr>\n  </thead>\n  <tbody>\n    <tr>\n      <th>0</th>\n      <td>related-1</td>\n      <td>request-0</td>\n      <td>offer-0</td>\n      <td>aid_related-0</td>\n      <td>medical_help-0</td>\n      <td>medical_products-0</td>\n      <td>search_and_rescue-0</td>\n      <td>security-0</td>\n      <td>military-0</td>\n      <td>child_alone-0</td>\n      <td>...</td>\n      <td>aid_centers-0</td>\n      <td>other_infrastructure-0</td>\n      <td>weather_related-0</td>\n      <td>floods-0</td>\n      <td>storm-0</td>\n      <td>fire-0</td>\n      <td>earthquake-0</td>\n      <td>cold-0</td>\n      <td>other_weather-0</td>\n      <td>direct_report-0</td>\n    </tr>\n  </tbody>\n</table>\n<p>1 rows × 36 columns</p>\n</div>"
     },
     "execution_count": 21,
     "metadata": {},
     "output_type": "execute_result"
    }
   ],
   "metadata": {}
  },
  {
   "cell_type": "code",
   "source": [
    "getDescription = lambda col : col.str[:-2]\n",
    "\n",
    "# use this row to extract a list of new column names for categories.\n",
    "# one way is to apply a lambda function that takes everything \n",
    "# up to the second to last character of each string with slicing\n",
    "#category_colnames = row.apply(getDescription)\n",
    "\n",
    "\n",
    "category_colnames = (row.apply(getDescription))\n",
    "category_colnames = list(category_colnames.iloc[0])\n",
    "print(category_colnames)"
   ],
   "execution_count": 22,
   "outputs": [
    {
     "name": "stdout",
     "output_type": "stream",
     "text": [
      "['related', 'request', 'offer', 'aid_related', 'medical_help', 'medical_products', 'search_and_rescue', 'security', 'military', 'child_alone', 'water', 'food', 'shelter', 'clothing', 'money', 'missing_people', 'refugees', 'death', 'other_aid', 'infrastructure_related', 'transport', 'buildings', 'electricity', 'tools', 'hospitals', 'shops', 'aid_centers', 'other_infrastructure', 'weather_related', 'floods', 'storm', 'fire', 'earthquake', 'cold', 'other_weather', 'direct_report']\n"
     ]
    }
   ],
   "metadata": {}
  },
  {
   "cell_type": "code",
   "source": [
    "# rename the columns of `categories`\n",
    "categories.columns = category_colnames\n",
    "categories.head()"
   ],
   "execution_count": 23,
   "outputs": [
    {
     "data": {
      "text/plain": "     related    request    offer    aid_related    medical_help  \\\n0  related-1  request-0  offer-0  aid_related-0  medical_help-0   \n1  related-1  request-0  offer-0  aid_related-1  medical_help-0   \n2  related-1  request-0  offer-0  aid_related-0  medical_help-0   \n3  related-1  request-1  offer-0  aid_related-1  medical_help-0   \n4  related-1  request-0  offer-0  aid_related-0  medical_help-0   \n\n     medical_products    search_and_rescue    security    military  \\\n0  medical_products-0  search_and_rescue-0  security-0  military-0   \n1  medical_products-0  search_and_rescue-0  security-0  military-0   \n2  medical_products-0  search_and_rescue-0  security-0  military-0   \n3  medical_products-1  search_and_rescue-0  security-0  military-0   \n4  medical_products-0  search_and_rescue-0  security-0  military-0   \n\n     child_alone  ...    aid_centers    other_infrastructure  \\\n0  child_alone-0  ...  aid_centers-0  other_infrastructure-0   \n1  child_alone-0  ...  aid_centers-0  other_infrastructure-0   \n2  child_alone-0  ...  aid_centers-0  other_infrastructure-0   \n3  child_alone-0  ...  aid_centers-0  other_infrastructure-0   \n4  child_alone-0  ...  aid_centers-0  other_infrastructure-0   \n\n     weather_related    floods    storm    fire    earthquake    cold  \\\n0  weather_related-0  floods-0  storm-0  fire-0  earthquake-0  cold-0   \n1  weather_related-1  floods-0  storm-1  fire-0  earthquake-0  cold-0   \n2  weather_related-0  floods-0  storm-0  fire-0  earthquake-0  cold-0   \n3  weather_related-0  floods-0  storm-0  fire-0  earthquake-0  cold-0   \n4  weather_related-0  floods-0  storm-0  fire-0  earthquake-0  cold-0   \n\n     other_weather    direct_report  \n0  other_weather-0  direct_report-0  \n1  other_weather-0  direct_report-0  \n2  other_weather-0  direct_report-0  \n3  other_weather-0  direct_report-0  \n4  other_weather-0  direct_report-0  \n\n[5 rows x 36 columns]",
      "text/html": "<div>\n<style scoped>\n    .dataframe tbody tr th:only-of-type {\n        vertical-align: middle;\n    }\n\n    .dataframe tbody tr th {\n        vertical-align: top;\n    }\n\n    .dataframe thead th {\n        text-align: right;\n    }\n</style>\n<table border=\"1\" class=\"dataframe\">\n  <thead>\n    <tr style=\"text-align: right;\">\n      <th></th>\n      <th>related</th>\n      <th>request</th>\n      <th>offer</th>\n      <th>aid_related</th>\n      <th>medical_help</th>\n      <th>medical_products</th>\n      <th>search_and_rescue</th>\n      <th>security</th>\n      <th>military</th>\n      <th>child_alone</th>\n      <th>...</th>\n      <th>aid_centers</th>\n      <th>other_infrastructure</th>\n      <th>weather_related</th>\n      <th>floods</th>\n      <th>storm</th>\n      <th>fire</th>\n      <th>earthquake</th>\n      <th>cold</th>\n      <th>other_weather</th>\n      <th>direct_report</th>\n    </tr>\n  </thead>\n  <tbody>\n    <tr>\n      <th>0</th>\n      <td>related-1</td>\n      <td>request-0</td>\n      <td>offer-0</td>\n      <td>aid_related-0</td>\n      <td>medical_help-0</td>\n      <td>medical_products-0</td>\n      <td>search_and_rescue-0</td>\n      <td>security-0</td>\n      <td>military-0</td>\n      <td>child_alone-0</td>\n      <td>...</td>\n      <td>aid_centers-0</td>\n      <td>other_infrastructure-0</td>\n      <td>weather_related-0</td>\n      <td>floods-0</td>\n      <td>storm-0</td>\n      <td>fire-0</td>\n      <td>earthquake-0</td>\n      <td>cold-0</td>\n      <td>other_weather-0</td>\n      <td>direct_report-0</td>\n    </tr>\n    <tr>\n      <th>1</th>\n      <td>related-1</td>\n      <td>request-0</td>\n      <td>offer-0</td>\n      <td>aid_related-1</td>\n      <td>medical_help-0</td>\n      <td>medical_products-0</td>\n      <td>search_and_rescue-0</td>\n      <td>security-0</td>\n      <td>military-0</td>\n      <td>child_alone-0</td>\n      <td>...</td>\n      <td>aid_centers-0</td>\n      <td>other_infrastructure-0</td>\n      <td>weather_related-1</td>\n      <td>floods-0</td>\n      <td>storm-1</td>\n      <td>fire-0</td>\n      <td>earthquake-0</td>\n      <td>cold-0</td>\n      <td>other_weather-0</td>\n      <td>direct_report-0</td>\n    </tr>\n    <tr>\n      <th>2</th>\n      <td>related-1</td>\n      <td>request-0</td>\n      <td>offer-0</td>\n      <td>aid_related-0</td>\n      <td>medical_help-0</td>\n      <td>medical_products-0</td>\n      <td>search_and_rescue-0</td>\n      <td>security-0</td>\n      <td>military-0</td>\n      <td>child_alone-0</td>\n      <td>...</td>\n      <td>aid_centers-0</td>\n      <td>other_infrastructure-0</td>\n      <td>weather_related-0</td>\n      <td>floods-0</td>\n      <td>storm-0</td>\n      <td>fire-0</td>\n      <td>earthquake-0</td>\n      <td>cold-0</td>\n      <td>other_weather-0</td>\n      <td>direct_report-0</td>\n    </tr>\n    <tr>\n      <th>3</th>\n      <td>related-1</td>\n      <td>request-1</td>\n      <td>offer-0</td>\n      <td>aid_related-1</td>\n      <td>medical_help-0</td>\n      <td>medical_products-1</td>\n      <td>search_and_rescue-0</td>\n      <td>security-0</td>\n      <td>military-0</td>\n      <td>child_alone-0</td>\n      <td>...</td>\n      <td>aid_centers-0</td>\n      <td>other_infrastructure-0</td>\n      <td>weather_related-0</td>\n      <td>floods-0</td>\n      <td>storm-0</td>\n      <td>fire-0</td>\n      <td>earthquake-0</td>\n      <td>cold-0</td>\n      <td>other_weather-0</td>\n      <td>direct_report-0</td>\n    </tr>\n    <tr>\n      <th>4</th>\n      <td>related-1</td>\n      <td>request-0</td>\n      <td>offer-0</td>\n      <td>aid_related-0</td>\n      <td>medical_help-0</td>\n      <td>medical_products-0</td>\n      <td>search_and_rescue-0</td>\n      <td>security-0</td>\n      <td>military-0</td>\n      <td>child_alone-0</td>\n      <td>...</td>\n      <td>aid_centers-0</td>\n      <td>other_infrastructure-0</td>\n      <td>weather_related-0</td>\n      <td>floods-0</td>\n      <td>storm-0</td>\n      <td>fire-0</td>\n      <td>earthquake-0</td>\n      <td>cold-0</td>\n      <td>other_weather-0</td>\n      <td>direct_report-0</td>\n    </tr>\n  </tbody>\n</table>\n<p>5 rows × 36 columns</p>\n</div>"
     },
     "execution_count": 23,
     "metadata": {},
     "output_type": "execute_result"
    }
   ],
   "metadata": {}
  },
  {
   "cell_type": "markdown",
   "source": [
    "### 4. Convert category values to just numbers 0 or 1.\n",
    "- Iterate through the category columns in df to keep only the last character of each string (the 1 or 0). For example, `related-0` becomes `0`, `related-1` becomes `1`. Convert the string to a numeric value.\n",
    "- You can perform [normal string actions on Pandas Series](https://pandas.pydata.org/pandas-docs/stable/text.html#indexing-with-str), like indexing, by including `.str` after the Series. You may need to first convert the Series to be of type string, which you can do with `astype(str)`."
   ],
   "metadata": {}
  },
  {
   "cell_type": "code",
   "source": [
    "for column in categories:\n",
    "    # set each value to be the last character of the string\n",
    "    # convert column from string to numeric\n",
    "    categories[column] = categories[column].str[-1].astype(int)\n",
    "\n",
    "categories.head()"
   ],
   "execution_count": 24,
   "outputs": [
    {
     "data": {
      "text/plain": "   related  request  offer  aid_related  medical_help  medical_products  \\\n0        1        0      0            0             0                 0   \n1        1        0      0            1             0                 0   \n2        1        0      0            0             0                 0   \n3        1        1      0            1             0                 1   \n4        1        0      0            0             0                 0   \n\n   search_and_rescue  security  military  child_alone  ...  aid_centers  \\\n0                  0         0         0            0  ...            0   \n1                  0         0         0            0  ...            0   \n2                  0         0         0            0  ...            0   \n3                  0         0         0            0  ...            0   \n4                  0         0         0            0  ...            0   \n\n   other_infrastructure  weather_related  floods  storm  fire  earthquake  \\\n0                     0                0       0      0     0           0   \n1                     0                1       0      1     0           0   \n2                     0                0       0      0     0           0   \n3                     0                0       0      0     0           0   \n4                     0                0       0      0     0           0   \n\n   cold  other_weather  direct_report  \n0     0              0              0  \n1     0              0              0  \n2     0              0              0  \n3     0              0              0  \n4     0              0              0  \n\n[5 rows x 36 columns]",
      "text/html": "<div>\n<style scoped>\n    .dataframe tbody tr th:only-of-type {\n        vertical-align: middle;\n    }\n\n    .dataframe tbody tr th {\n        vertical-align: top;\n    }\n\n    .dataframe thead th {\n        text-align: right;\n    }\n</style>\n<table border=\"1\" class=\"dataframe\">\n  <thead>\n    <tr style=\"text-align: right;\">\n      <th></th>\n      <th>related</th>\n      <th>request</th>\n      <th>offer</th>\n      <th>aid_related</th>\n      <th>medical_help</th>\n      <th>medical_products</th>\n      <th>search_and_rescue</th>\n      <th>security</th>\n      <th>military</th>\n      <th>child_alone</th>\n      <th>...</th>\n      <th>aid_centers</th>\n      <th>other_infrastructure</th>\n      <th>weather_related</th>\n      <th>floods</th>\n      <th>storm</th>\n      <th>fire</th>\n      <th>earthquake</th>\n      <th>cold</th>\n      <th>other_weather</th>\n      <th>direct_report</th>\n    </tr>\n  </thead>\n  <tbody>\n    <tr>\n      <th>0</th>\n      <td>1</td>\n      <td>0</td>\n      <td>0</td>\n      <td>0</td>\n      <td>0</td>\n      <td>0</td>\n      <td>0</td>\n      <td>0</td>\n      <td>0</td>\n      <td>0</td>\n      <td>...</td>\n      <td>0</td>\n      <td>0</td>\n      <td>0</td>\n      <td>0</td>\n      <td>0</td>\n      <td>0</td>\n      <td>0</td>\n      <td>0</td>\n      <td>0</td>\n      <td>0</td>\n    </tr>\n    <tr>\n      <th>1</th>\n      <td>1</td>\n      <td>0</td>\n      <td>0</td>\n      <td>1</td>\n      <td>0</td>\n      <td>0</td>\n      <td>0</td>\n      <td>0</td>\n      <td>0</td>\n      <td>0</td>\n      <td>...</td>\n      <td>0</td>\n      <td>0</td>\n      <td>1</td>\n      <td>0</td>\n      <td>1</td>\n      <td>0</td>\n      <td>0</td>\n      <td>0</td>\n      <td>0</td>\n      <td>0</td>\n    </tr>\n    <tr>\n      <th>2</th>\n      <td>1</td>\n      <td>0</td>\n      <td>0</td>\n      <td>0</td>\n      <td>0</td>\n      <td>0</td>\n      <td>0</td>\n      <td>0</td>\n      <td>0</td>\n      <td>0</td>\n      <td>...</td>\n      <td>0</td>\n      <td>0</td>\n      <td>0</td>\n      <td>0</td>\n      <td>0</td>\n      <td>0</td>\n      <td>0</td>\n      <td>0</td>\n      <td>0</td>\n      <td>0</td>\n    </tr>\n    <tr>\n      <th>3</th>\n      <td>1</td>\n      <td>1</td>\n      <td>0</td>\n      <td>1</td>\n      <td>0</td>\n      <td>1</td>\n      <td>0</td>\n      <td>0</td>\n      <td>0</td>\n      <td>0</td>\n      <td>...</td>\n      <td>0</td>\n      <td>0</td>\n      <td>0</td>\n      <td>0</td>\n      <td>0</td>\n      <td>0</td>\n      <td>0</td>\n      <td>0</td>\n      <td>0</td>\n      <td>0</td>\n    </tr>\n    <tr>\n      <th>4</th>\n      <td>1</td>\n      <td>0</td>\n      <td>0</td>\n      <td>0</td>\n      <td>0</td>\n      <td>0</td>\n      <td>0</td>\n      <td>0</td>\n      <td>0</td>\n      <td>0</td>\n      <td>...</td>\n      <td>0</td>\n      <td>0</td>\n      <td>0</td>\n      <td>0</td>\n      <td>0</td>\n      <td>0</td>\n      <td>0</td>\n      <td>0</td>\n      <td>0</td>\n      <td>0</td>\n    </tr>\n  </tbody>\n</table>\n<p>5 rows × 36 columns</p>\n</div>"
     },
     "execution_count": 24,
     "metadata": {},
     "output_type": "execute_result"
    }
   ],
   "metadata": {}
  },
  {
   "cell_type": "markdown",
   "source": [
    "### 5. Replace `categories` column in `df` with new category columns.\n",
    "- Drop the categories column from the df dataframe since it is no longer needed.\n",
    "- Concatenate df and categories data frames."
   ],
   "metadata": {}
  },
  {
   "cell_type": "code",
   "source": [
    "# drop the original categories column from `df`\n",
    "\n",
    "df = df.drop(columns=[\"categories\"])\n",
    "\n",
    "df.head()"
   ],
   "execution_count": 25,
   "outputs": [
    {
     "data": {
      "text/plain": "   id                                            message  \\\n0   2  Weather update - a cold front from Cuba that c...   \n1   7            Is the Hurricane over or is it not over   \n2   8                    Looking for someone but no name   \n3   9  UN reports Leogane 80-90 destroyed. Only Hospi...   \n4  12  says: west side of Haiti, rest of the country ...   \n\n                                            original   genre  \n0  Un front froid se retrouve sur Cuba ce matin. ...  direct  \n1                 Cyclone nan fini osinon li pa fini  direct  \n2  Patnm, di Maryani relem pou li banm nouvel li ...  direct  \n3  UN reports Leogane 80-90 destroyed. Only Hospi...  direct  \n4  facade ouest d Haiti et le reste du pays aujou...  direct  ",
      "text/html": "<div>\n<style scoped>\n    .dataframe tbody tr th:only-of-type {\n        vertical-align: middle;\n    }\n\n    .dataframe tbody tr th {\n        vertical-align: top;\n    }\n\n    .dataframe thead th {\n        text-align: right;\n    }\n</style>\n<table border=\"1\" class=\"dataframe\">\n  <thead>\n    <tr style=\"text-align: right;\">\n      <th></th>\n      <th>id</th>\n      <th>message</th>\n      <th>original</th>\n      <th>genre</th>\n    </tr>\n  </thead>\n  <tbody>\n    <tr>\n      <th>0</th>\n      <td>2</td>\n      <td>Weather update - a cold front from Cuba that c...</td>\n      <td>Un front froid se retrouve sur Cuba ce matin. ...</td>\n      <td>direct</td>\n    </tr>\n    <tr>\n      <th>1</th>\n      <td>7</td>\n      <td>Is the Hurricane over or is it not over</td>\n      <td>Cyclone nan fini osinon li pa fini</td>\n      <td>direct</td>\n    </tr>\n    <tr>\n      <th>2</th>\n      <td>8</td>\n      <td>Looking for someone but no name</td>\n      <td>Patnm, di Maryani relem pou li banm nouvel li ...</td>\n      <td>direct</td>\n    </tr>\n    <tr>\n      <th>3</th>\n      <td>9</td>\n      <td>UN reports Leogane 80-90 destroyed. Only Hospi...</td>\n      <td>UN reports Leogane 80-90 destroyed. Only Hospi...</td>\n      <td>direct</td>\n    </tr>\n    <tr>\n      <th>4</th>\n      <td>12</td>\n      <td>says: west side of Haiti, rest of the country ...</td>\n      <td>facade ouest d Haiti et le reste du pays aujou...</td>\n      <td>direct</td>\n    </tr>\n  </tbody>\n</table>\n</div>"
     },
     "execution_count": 25,
     "metadata": {},
     "output_type": "execute_result"
    }
   ],
   "metadata": {}
  },
  {
   "cell_type": "code",
   "source": [
    "# concatenate the original dataframe with the new `categories` dataframe\n",
    "df = pd.concat([messages,categories],axis=1)\n",
    "df.head()"
   ],
   "execution_count": 26,
   "outputs": [
    {
     "data": {
      "text/plain": "     id                                            message  \\\n0   2.0  Weather update - a cold front from Cuba that c...   \n1   7.0            Is the Hurricane over or is it not over   \n2   8.0                    Looking for someone but no name   \n3   9.0  UN reports Leogane 80-90 destroyed. Only Hospi...   \n4  12.0  says: west side of Haiti, rest of the country ...   \n\n                                            original   genre  related  \\\n0  Un front froid se retrouve sur Cuba ce matin. ...  direct        1   \n1                 Cyclone nan fini osinon li pa fini  direct        1   \n2  Patnm, di Maryani relem pou li banm nouvel li ...  direct        1   \n3  UN reports Leogane 80-90 destroyed. Only Hospi...  direct        1   \n4  facade ouest d Haiti et le reste du pays aujou...  direct        1   \n\n   request  offer  aid_related  medical_help  medical_products  ...  \\\n0        0      0            0             0                 0  ...   \n1        0      0            1             0                 0  ...   \n2        0      0            0             0                 0  ...   \n3        1      0            1             0                 1  ...   \n4        0      0            0             0                 0  ...   \n\n   aid_centers  other_infrastructure  weather_related  floods  storm  fire  \\\n0            0                     0                0       0      0     0   \n1            0                     0                1       0      1     0   \n2            0                     0                0       0      0     0   \n3            0                     0                0       0      0     0   \n4            0                     0                0       0      0     0   \n\n   earthquake  cold  other_weather  direct_report  \n0           0     0              0              0  \n1           0     0              0              0  \n2           0     0              0              0  \n3           0     0              0              0  \n4           0     0              0              0  \n\n[5 rows x 40 columns]",
      "text/html": "<div>\n<style scoped>\n    .dataframe tbody tr th:only-of-type {\n        vertical-align: middle;\n    }\n\n    .dataframe tbody tr th {\n        vertical-align: top;\n    }\n\n    .dataframe thead th {\n        text-align: right;\n    }\n</style>\n<table border=\"1\" class=\"dataframe\">\n  <thead>\n    <tr style=\"text-align: right;\">\n      <th></th>\n      <th>id</th>\n      <th>message</th>\n      <th>original</th>\n      <th>genre</th>\n      <th>related</th>\n      <th>request</th>\n      <th>offer</th>\n      <th>aid_related</th>\n      <th>medical_help</th>\n      <th>medical_products</th>\n      <th>...</th>\n      <th>aid_centers</th>\n      <th>other_infrastructure</th>\n      <th>weather_related</th>\n      <th>floods</th>\n      <th>storm</th>\n      <th>fire</th>\n      <th>earthquake</th>\n      <th>cold</th>\n      <th>other_weather</th>\n      <th>direct_report</th>\n    </tr>\n  </thead>\n  <tbody>\n    <tr>\n      <th>0</th>\n      <td>2.0</td>\n      <td>Weather update - a cold front from Cuba that c...</td>\n      <td>Un front froid se retrouve sur Cuba ce matin. ...</td>\n      <td>direct</td>\n      <td>1</td>\n      <td>0</td>\n      <td>0</td>\n      <td>0</td>\n      <td>0</td>\n      <td>0</td>\n      <td>...</td>\n      <td>0</td>\n      <td>0</td>\n      <td>0</td>\n      <td>0</td>\n      <td>0</td>\n      <td>0</td>\n      <td>0</td>\n      <td>0</td>\n      <td>0</td>\n      <td>0</td>\n    </tr>\n    <tr>\n      <th>1</th>\n      <td>7.0</td>\n      <td>Is the Hurricane over or is it not over</td>\n      <td>Cyclone nan fini osinon li pa fini</td>\n      <td>direct</td>\n      <td>1</td>\n      <td>0</td>\n      <td>0</td>\n      <td>1</td>\n      <td>0</td>\n      <td>0</td>\n      <td>...</td>\n      <td>0</td>\n      <td>0</td>\n      <td>1</td>\n      <td>0</td>\n      <td>1</td>\n      <td>0</td>\n      <td>0</td>\n      <td>0</td>\n      <td>0</td>\n      <td>0</td>\n    </tr>\n    <tr>\n      <th>2</th>\n      <td>8.0</td>\n      <td>Looking for someone but no name</td>\n      <td>Patnm, di Maryani relem pou li banm nouvel li ...</td>\n      <td>direct</td>\n      <td>1</td>\n      <td>0</td>\n      <td>0</td>\n      <td>0</td>\n      <td>0</td>\n      <td>0</td>\n      <td>...</td>\n      <td>0</td>\n      <td>0</td>\n      <td>0</td>\n      <td>0</td>\n      <td>0</td>\n      <td>0</td>\n      <td>0</td>\n      <td>0</td>\n      <td>0</td>\n      <td>0</td>\n    </tr>\n    <tr>\n      <th>3</th>\n      <td>9.0</td>\n      <td>UN reports Leogane 80-90 destroyed. Only Hospi...</td>\n      <td>UN reports Leogane 80-90 destroyed. Only Hospi...</td>\n      <td>direct</td>\n      <td>1</td>\n      <td>1</td>\n      <td>0</td>\n      <td>1</td>\n      <td>0</td>\n      <td>1</td>\n      <td>...</td>\n      <td>0</td>\n      <td>0</td>\n      <td>0</td>\n      <td>0</td>\n      <td>0</td>\n      <td>0</td>\n      <td>0</td>\n      <td>0</td>\n      <td>0</td>\n      <td>0</td>\n    </tr>\n    <tr>\n      <th>4</th>\n      <td>12.0</td>\n      <td>says: west side of Haiti, rest of the country ...</td>\n      <td>facade ouest d Haiti et le reste du pays aujou...</td>\n      <td>direct</td>\n      <td>1</td>\n      <td>0</td>\n      <td>0</td>\n      <td>0</td>\n      <td>0</td>\n      <td>0</td>\n      <td>...</td>\n      <td>0</td>\n      <td>0</td>\n      <td>0</td>\n      <td>0</td>\n      <td>0</td>\n      <td>0</td>\n      <td>0</td>\n      <td>0</td>\n      <td>0</td>\n      <td>0</td>\n    </tr>\n  </tbody>\n</table>\n<p>5 rows × 40 columns</p>\n</div>"
     },
     "execution_count": 26,
     "metadata": {},
     "output_type": "execute_result"
    }
   ],
   "metadata": {}
  },
  {
   "cell_type": "markdown",
   "source": [
    "### 6. Remove duplicates.\n",
    "- Check how many duplicates are in this dataset.\n",
    "- Drop the duplicates.\n",
    "- Confirm duplicates were removed."
   ],
   "metadata": {}
  },
  {
   "cell_type": "code",
   "source": [
    "# check number of duplicates\n",
    "#(26386, 40)\n",
    "df.shape\n",
    "df[\"id\"].nunique()\n",
    "df.groupby(\"id\").size().sort_values(ascending=False)\n",
    "#df[df[\"id\"]==29119]"
   ],
   "execution_count": 27,
   "outputs": [
    {
     "data": {
      "text/plain": "id\n24779.0    3\n17079.0    2\n13914.0    2\n15576.0    2\n29119.0    2\n          ..\n9807.0     1\n9806.0     1\n9805.0     1\n9804.0     1\n30265.0    1\nLength: 26180, dtype: int64"
     },
     "execution_count": 27,
     "metadata": {},
     "output_type": "execute_result"
    }
   ],
   "metadata": {}
  },
  {
   "cell_type": "code",
   "source": [
    "# drop duplicates\n",
    "df = df.drop_duplicates(subset=\"id\")"
   ],
   "execution_count": 28,
   "outputs": [],
   "metadata": {}
  },
  {
   "cell_type": "code",
   "source": [
    "# check number of duplicates\n",
    "df[\"id\"].nunique()\n",
    "df.groupby(\"id\").size().sort_values(ascending=False)\n",
    "\n",
    "#Remove nans\n"
   ],
   "execution_count": 29,
   "outputs": [
    {
     "data": {
      "text/plain": "id\n2.0        1\n20510.0    1\n20521.0    1\n20519.0    1\n20518.0    1\n          ..\n9787.0     1\n9786.0     1\n9785.0     1\n9784.0     1\n30265.0    1\nLength: 26180, dtype: int64"
     },
     "execution_count": 29,
     "metadata": {},
     "output_type": "execute_result"
    }
   ],
   "metadata": {}
  },
  {
   "cell_type": "code",
   "source": [
    "df = df.dropna(axis=0, subset=['message'])\n",
    "\n",
    "countRateNA = lambda col : col.isna().sum()/col.shape[0]\n",
    "\n",
    "nullColumns = df.apply(countRateNA,axis=0)\n",
    "nullColumns = nullColumns.sort_values(ascending = False)\n",
    "\n",
    "nullColumns = nullColumns[~(nullColumns.where(nullColumns>0).isnull())]\n",
    "\n",
    "nullColumns"
   ],
   "execution_count": 30,
   "outputs": [
    {
     "data": {
      "text/plain": "original    0.612185\ndtype: float64"
     },
     "execution_count": 30,
     "metadata": {},
     "output_type": "execute_result"
    }
   ],
   "metadata": {}
  },
  {
   "cell_type": "markdown",
   "source": [
    "### 7. Save the clean dataset into an sqlite database.\n",
    "You can do this with pandas [`to_sql` method](https://pandas.pydata.org/pandas-docs/stable/generated/pandas.DataFrame.to_sql.html) combined with the SQLAlchemy library. Remember to import SQLAlchemy's `create_engine` in the first cell of this notebook to use it below."
   ],
   "metadata": {}
  },
  {
   "cell_type": "code",
   "source": [
    "engine = create_engine('sqlite:///DisasterDatabase.db')\n",
    "df.to_sql('MessageTable', engine, index=False)"
   ],
   "execution_count": 31,
   "outputs": [],
   "metadata": {}
  },
  {
   "cell_type": "markdown",
   "source": [
    "### 8. Use this notebook to complete `etl_pipeline.py`\n",
    "Use the template file attached in the Resources folder to write a script that runs the steps above to create a database based on new datasets specified by the user. Alternatively, you can complete `etl_pipeline.py` in the classroom on the `Project Workspace IDE` coming later."
   ],
   "metadata": {}
  },
  {
   "cell_type": "code",
   "source": [],
   "execution_count": 31,
   "outputs": [],
   "metadata": {}
  }
 ],
 "metadata": {
  "kernelspec": {
   "name": "python3",
   "language": "python",
   "display_name": "Python 3"
  }
 },
 "nbformat": 4,
 "nbformat_minor": 0
}